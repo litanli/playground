{
 "cells": [
  {
   "cell_type": "code",
   "execution_count": 1,
   "metadata": {},
   "outputs": [],
   "source": [
    "import random\n",
    "from typing import Literal"
   ]
  },
  {
   "cell_type": "markdown",
   "metadata": {},
   "source": [
    "The [Monty Hall Problem](https://en.wikipedia.org/wiki/Monty_Hall_problem) is a counter-intuitive probability puzzle that became well-known after appearing in Ask Marilyn 1990:\n",
    "\n",
    "\"Suppose you're on a game show, and you're given the choice of three doors: Behind one door is a car; behind the others, goats. You pick a door, say No. 1, and the host, who knows what's behind the doors, opens another door, say No. 3, which has a goat. He then says to you, \"Do you want to pick door No. 2?\" Is it to your advantage to switch your choice?\"\n",
    "\n",
    "We'll run a simulation to show that the probability of winning is 2/3 if one switches, and give a visual explanation of why.\n"
   ]
  },
  {
   "cell_type": "code",
   "execution_count": 2,
   "metadata": {},
   "outputs": [],
   "source": [
    "class MontyHall:\n",
    "    def _host_places_car(self):\n",
    "        self.car = random.randint(0, 2)\n",
    "\n",
    "    def _contestant_chooses_door(self):\n",
    "        self.choice = random.randint(0, 2)\n",
    "\n",
    "    def _host_reveals_goat(self):\n",
    "        # Can't reveal car, and can't reveal contestant's chosen door\n",
    "        self.reveal = random.choice(list({0, 1, 2} - {self.car, self.choice}))\n",
    "\n",
    "    def run(self, strategy: Literal[\"keep\", \"switch\"], trials=10_000) -> float:\n",
    "        p_win = 0\n",
    "        for _ in range(trials):\n",
    "            self._host_places_car()\n",
    "            self._contestant_chooses_door()\n",
    "            self._host_reveals_goat()\n",
    "\n",
    "            match strategy:\n",
    "                case \"keep\":\n",
    "                    p_win += self.choice == self.car\n",
    "                case \"switch\":\n",
    "                    # Switch to the unopened door\n",
    "                    choice = list({0, 1, 2} - {self.reveal, self.choice})\n",
    "                    assert len(choice) == 1\n",
    "                    p_win += choice[0] == self.car\n",
    "                case _:\n",
    "                    raise ValueError(f\"Unrecognized {strategy=}\")\n",
    "\n",
    "        p_win /= trials\n",
    "        return round(p_win, 3)"
   ]
  },
  {
   "cell_type": "markdown",
   "metadata": {},
   "source": [
    "Apriori, what do we expect the probability of winning would be if we always kept our door? Since both the host and contestant randomly chooses their doors, we expect p_win=1/3."
   ]
  },
  {
   "cell_type": "code",
   "execution_count": 3,
   "metadata": {},
   "outputs": [
    {
     "data": {
      "text/plain": [
       "0.331"
      ]
     },
     "execution_count": 3,
     "metadata": {},
     "output_type": "execute_result"
    }
   ],
   "source": [
    "MontyHall().run(\"keep\")"
   ]
  },
  {
   "cell_type": "markdown",
   "metadata": {},
   "source": [
    "And if we use the switching strategy? 2/3!"
   ]
  },
  {
   "cell_type": "code",
   "execution_count": 4,
   "metadata": {},
   "outputs": [
    {
     "data": {
      "text/plain": [
       "0.662"
      ]
     },
     "execution_count": 4,
     "metadata": {},
     "output_type": "execute_result"
    }
   ],
   "source": [
    "MontyHall().run(\"switch\")"
   ]
  },
  {
   "cell_type": "code",
   "execution_count": null,
   "metadata": {},
   "outputs": [],
   "source": []
  }
 ],
 "metadata": {
  "kernelspec": {
   "display_name": "playground-y5HLdOWY-py3.12",
   "language": "python",
   "name": "python3"
  },
  "language_info": {
   "codemirror_mode": {
    "name": "ipython",
    "version": 3
   },
   "file_extension": ".py",
   "mimetype": "text/x-python",
   "name": "python",
   "nbconvert_exporter": "python",
   "pygments_lexer": "ipython3",
   "version": "3.12.3"
  },
  "orig_nbformat": 4
 },
 "nbformat": 4,
 "nbformat_minor": 2
}
