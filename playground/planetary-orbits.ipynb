{
 "cells": [
  {
   "cell_type": "code",
   "execution_count": 3,
   "metadata": {},
   "outputs": [],
   "source": [
    "import pandas as pd\n",
    "import matplotlib.pyplot as plt\n",
    "import numpy as np"
   ]
  },
  {
   "cell_type": "code",
   "execution_count": 4,
   "metadata": {},
   "outputs": [
    {
     "data": {
      "text/plain": [
       "<function __main__.<lambda>(v)>"
      ]
     },
     "execution_count": 4,
     "metadata": {},
     "output_type": "execute_result"
    }
   ],
   "source": [
    "c = 299792458\n",
    "lambda v: 1 / (1 - v**2 / c**2) ** 0.5"
   ]
  },
  {
   "cell_type": "code",
   "execution_count": 7,
   "metadata": {},
   "outputs": [
    {
     "name": "stderr",
     "output_type": "stream",
     "text": [
      "/tmp/ipykernel_1247/3919305425.py:2: RuntimeWarning: divide by zero encountered in scalar divide\n",
      "  plt.scatter(x=x, y=list(map(lambda v: 1/(1 - v**2 / c**2)**0.5, x)))\n"
     ]
    },
    {
     "data": {
      "text/plain": [
       "<matplotlib.collections.PathCollection at 0x7facc61a11d0>"
      ]
     },
     "execution_count": 7,
     "metadata": {},
     "output_type": "execute_result"
    },
    {
     "data": {
      "image/png": "[encoded data removed]",
      "text/plain": [
       "<Figure size 640x480 with 1 Axes>"
      ]
     },
     "metadata": {},
     "output_type": "display_data"
    }
   ],
   "source": [
    "x = np.arange(-c, c + 1, 1e3)\n",
    "plt.scatter(x=x, y=list(map(lambda v: 1 / (1 - v**2 / c**2) ** 0.5, x)))"
   ]
  },
  {
   "cell_type": "markdown",
   "metadata": {},
   "source": [
    "# Planetary Motion"
   ]
  },
  {
   "cell_type": "markdown",
   "metadata": {},
   "source": [
    "Newton's law of gravitation states that two bodies of mass attract each other with equal and opposite force that varies as the inverse of the square of the distance between them, with proportionality constant $G=6.6743 \\times 10^{-11} \\frac{N \\cdot m}{kg^2}.$\n",
    "\n",
    "\\begin{equation}\n",
    "    F = G \\frac{m_1m_2}{r^2}\n",
    "\\end{equation}"
   ]
  },
  {
   "attachments": {},
   "cell_type": "markdown",
   "metadata": {},
   "source": [
    "## Single Planet Orbiting Some Star\n",
    "\n",
    "- Assume the Sun has only one planet, such that the orbit of the planet is affected only by the Sun's gravity.\n",
    "- Also assume the planet's mass is negligible compared to the Sun such that the Sun doesn't move. I.e. the barycenter of the Sun and the planet is at the same location as the Sun's center of mass. <br><br>\n",
    "\n",
    "Since the green triangle and triangle ABC are similar, the proportions $|F_x|/F$ and $|x|/r$ are equal. $F_x$ is the x-component force acting on the planet and $x$ is the x-position of the planet with the origin at the Sun. When the planet is on the \"right\" side of the Sun, the x-component force pulls left and vice versa. So we have a negative sign in front of $x$. "
   ]
  },
  {
   "cell_type": "markdown",
   "metadata": {},
   "source": [
    "<img src=\"fig2.png\" alt=\"alt text\" title=\"Title\" width=\"600\" height=\"300\">"
   ]
  },
  {
   "cell_type": "markdown",
   "metadata": {},
   "source": [
    "Plugging in the law of gravitation for $F$ we have expressions for the x and y components of force acting on the planet, where $r = \\sqrt{x^2 + y^2}$ is the distance between the Sun and the planet. Since there are only two bodies, the problem is 2-dimensional and we need not worry about z components.\n",
    "\\begin{align*}\n",
    "    F_x &= - \\frac{xF}{r} \n",
    "        &= -G\\frac{m_{sun} m_{planet} x}{r^3} \n",
    "\\end{align*}\n",
    "\n",
    "\\begin{align*}\n",
    "    F_y &= - \\frac{yF}{r} \n",
    "        &= -G\\frac{m_{sun} m_{planet} y}{r^3}  \n",
    "\\end{align*}\n",
    "\n",
    "Newton's 2nd law states that the time-rate-of-change of an object's momentum is proportional to the force acting on it, $F = \\frac{d}{dt}(mv) = ma$. Substituting this into the LHS and canceling out the planet's mass give expressions for the acceleration of the planet around the Sun at any given position:\n",
    "\n",
    "\\begin{align*}\n",
    "    a_x &= -G\\frac{m_{sun} x}{r^3} \n",
    "\\end{align*}\n",
    "\n",
    "\\begin{align*}\n",
    "    a_y &= -G\\frac{m_{sun} y}{r^3}  \n",
    "\\end{align*}\n",
    "\n",
    "We can use these last two expressions to trace the planet's orbit numerically. First we define some initial conditions:\n",
    "\n",
    "\\begin{align*}\n",
    "    &x(0), y(0) = x_0, y_0 \\\\\n",
    "    &v_x(0), v_y(0) = v_{x, 0}, v_{y, 0} \\\\\n",
    "    &r_0 = \\sqrt{x_0^2 + y_0^2} \\\\\n",
    "    &a_x(0) = -G \\frac{m_{sun} x_0}{r_0^3} \\\\\n",
    "    &a_y(0) = -G \\frac{m_{sun} y_0}{r_0^3} \\\\\n",
    "\\end{align*}\n",
    "\n",
    "Then to make one step in the simulation, we say:\n",
    "\n",
    "\\begin{align*}\n",
    "    &x(t + \\Delta t) = x(t) + v_{x, est} \\Delta t \\\\\n",
    "    &y(t + \\Delta t) = y(t) + v_{y, est} \\Delta t \\\\\n",
    "\\end{align*}\n",
    "\n",
    "Where $v_{x, est}$ and $v_{y, est}$ are estimates of the x and y velocity between time $t$ and $\\Delta t$ - for example, the velocities at the half-way point:\n",
    "\n",
    "\\begin{align*}\n",
    "    & v_{x, est} = v_x \\left(\\frac{t + \\Delta t}{2} \\right) = v_x(t) + a_x(t) \\frac{\\Delta t}{2} \\\\\n",
    "    & v_{y, est} = v_y \\left(\\frac{t + \\Delta t}{2} \\right) = v_y(t) + a_y(t) \\frac{\\Delta t}{2} \\\\\n",
    "\\end{align*}\n",
    "\n",
    "With $x(t + \\Delta t)$ and $y(t + \\Delta t)$ in hand, we finish the iteration by calculating $r(t + \\Delta t)$, $a_x(t + \\Delta t)$ and $a_y(t + \\Delta t)$, and then repeat for as many iterations as we'd like. However in order for the planet to achieve a stable orbit around the Sun, it must be circling fast enough (with tangential velocity $v$) such that its centrifugal acceleration (acting away from the Sun) is balanced by the gravitational acceleration exerted by the Sun on the planet at the distance where the planet is $R$. The centrifugal force (which is just the mass of the planet times the centrifugal acceleration) is not really a real force, but a fictitious one that appear to exist, acting away from the Sun, when the Sun and the planet are viewed from a rotating frame of reference. This centrifugal acceleration is $\\omega^2 R$, or $v^2 / R$ since $\\omega = v/R$, and we can equate it to the gravitational acceleration exerted by the Sun on the planet at distance R:\n",
    "\n",
    "\\begin{align*}\n",
    "    &v^2/R = Gm_{sun}/R^2 \\\\\n",
    "    &v = \\sqrt{\\frac{Gm_{sun}}{R}}\n",
    "\\end{align*}\n",
    "\n",
    "Thus if we want our planet to achieve stable orbit at some $r_0$, we need to set $v_0 = \\sqrt{\\frac{Gm_{sun}}{r_0}} = \\sqrt{v_{x, 0}^2 + v_{y, 0}^2}$."
   ]
  },
  {
   "cell_type": "code",
   "execution_count": 4,
   "metadata": {},
   "outputs": [
    {
     "data": {
      "text/html": [
       "<div>\n",
       "<style scoped>\n",
       "    .dataframe tbody tr th:only-of-type {\n",
       "        vertical-align: middle;\n",
       "    }\n",
       "\n",
       "    .dataframe tbody tr th {\n",
       "        vertical-align: top;\n",
       "    }\n",
       "\n",
       "    .dataframe thead th {\n",
       "        text-align: right;\n",
       "    }\n",
       "</style>\n",
       "<table border=\"1\" class=\"dataframe\">\n",
       "  <thead>\n",
       "    <tr style=\"text-align: right;\">\n",
       "      <th></th>\n",
       "      <th>x</th>\n",
       "      <th>y</th>\n",
       "      <th>vx</th>\n",
       "      <th>vy</th>\n",
       "      <th>r</th>\n",
       "      <th>ax</th>\n",
       "      <th>ay</th>\n",
       "    </tr>\n",
       "    <tr>\n",
       "      <th>time (s)</th>\n",
       "      <th></th>\n",
       "      <th></th>\n",
       "      <th></th>\n",
       "      <th></th>\n",
       "      <th></th>\n",
       "      <th></th>\n",
       "      <th></th>\n",
       "    </tr>\n",
       "  </thead>\n",
       "  <tbody>\n",
       "    <tr>\n",
       "      <th>0</th>\n",
       "      <td>-1.500000e+11</td>\n",
       "      <td>0.000000e+00</td>\n",
       "      <td>0.000000</td>\n",
       "      <td>29756.631754</td>\n",
       "      <td>1.500000e+11</td>\n",
       "      <td>0.005903</td>\n",
       "      <td>-0.000000</td>\n",
       "    </tr>\n",
       "    <tr>\n",
       "      <th>1440</th>\n",
       "      <td>-1.499890e+11</td>\n",
       "      <td>2.570910e+09</td>\n",
       "      <td>254.986725</td>\n",
       "      <td>29754.448111</td>\n",
       "      <td>1.500110e+11</td>\n",
       "      <td>0.005901</td>\n",
       "      <td>-0.000101</td>\n",
       "    </tr>\n",
       "    <tr>\n",
       "      <th>2880</th>\n",
       "      <td>-1.499559e+11</td>\n",
       "      <td>5.141443e+09</td>\n",
       "      <td>509.823792</td>\n",
       "      <td>29747.897355</td>\n",
       "      <td>1.500440e+11</td>\n",
       "      <td>0.005896</td>\n",
       "      <td>-0.000202</td>\n",
       "    </tr>\n",
       "    <tr>\n",
       "      <th>4320</th>\n",
       "      <td>-1.499009e+11</td>\n",
       "      <td>7.711221e+09</td>\n",
       "      <td>764.361852</td>\n",
       "      <td>29736.989090</td>\n",
       "      <td>1.500991e+11</td>\n",
       "      <td>0.005887</td>\n",
       "      <td>-0.000303</td>\n",
       "    </tr>\n",
       "    <tr>\n",
       "      <th>5760</th>\n",
       "      <td>-1.498238e+11</td>\n",
       "      <td>1.027987e+10</td>\n",
       "      <td>1018.452318</td>\n",
       "      <td>29721.739288</td>\n",
       "      <td>1.501761e+11</td>\n",
       "      <td>0.005875</td>\n",
       "      <td>-0.000403</td>\n",
       "    </tr>\n",
       "    <tr>\n",
       "      <th>...</th>\n",
       "      <td>...</td>\n",
       "      <td>...</td>\n",
       "      <td>...</td>\n",
       "      <td>...</td>\n",
       "      <td>...</td>\n",
       "      <td>...</td>\n",
       "      <td>...</td>\n",
       "    </tr>\n",
       "    <tr>\n",
       "      <th>2622240</th>\n",
       "      <td>1.510623e+12</td>\n",
       "      <td>9.981745e+11</td>\n",
       "      <td>8202.350428</td>\n",
       "      <td>2465.130011</td>\n",
       "      <td>1.810617e+12</td>\n",
       "      <td>-0.000034</td>\n",
       "      <td>-0.000022</td>\n",
       "    </tr>\n",
       "    <tr>\n",
       "      <th>2623680</th>\n",
       "      <td>1.511332e+12</td>\n",
       "      <td>9.983875e+11</td>\n",
       "      <td>8200.890721</td>\n",
       "      <td>2464.165604</td>\n",
       "      <td>1.811326e+12</td>\n",
       "      <td>-0.000034</td>\n",
       "      <td>-0.000022</td>\n",
       "    </tr>\n",
       "    <tr>\n",
       "      <th>2625120</th>\n",
       "      <td>1.512040e+12</td>\n",
       "      <td>9.986004e+11</td>\n",
       "      <td>8199.432042</td>\n",
       "      <td>2463.202122</td>\n",
       "      <td>1.812034e+12</td>\n",
       "      <td>-0.000034</td>\n",
       "      <td>-0.000022</td>\n",
       "    </tr>\n",
       "    <tr>\n",
       "      <th>2626560</th>\n",
       "      <td>1.512749e+12</td>\n",
       "      <td>9.988131e+11</td>\n",
       "      <td>8197.974390</td>\n",
       "      <td>2462.239564</td>\n",
       "      <td>1.812743e+12</td>\n",
       "      <td>-0.000034</td>\n",
       "      <td>-0.000022</td>\n",
       "    </tr>\n",
       "    <tr>\n",
       "      <th>2628000</th>\n",
       "      <td>1.513457e+12</td>\n",
       "      <td>9.990258e+11</td>\n",
       "      <td>8196.517764</td>\n",
       "      <td>2461.277929</td>\n",
       "      <td>1.813451e+12</td>\n",
       "      <td>-0.000034</td>\n",
       "      <td>-0.000022</td>\n",
       "    </tr>\n",
       "  </tbody>\n",
       "</table>\n",
       "<p>1826 rows × 7 columns</p>\n",
       "</div>"
      ],
      "text/plain": [
       "                     x             y           vx            vy             r  \\\n",
       "time (s)                                                                        \n",
       "0        -1.500000e+11  0.000000e+00     0.000000  29756.631754  1.500000e+11   \n",
       "1440     -1.499890e+11  2.570910e+09   254.986725  29754.448111  1.500110e+11   \n",
       "2880     -1.499559e+11  5.141443e+09   509.823792  29747.897355  1.500440e+11   \n",
       "4320     -1.499009e+11  7.711221e+09   764.361852  29736.989090  1.500991e+11   \n",
       "5760     -1.498238e+11  1.027987e+10  1018.452318  29721.739288  1.501761e+11   \n",
       "...                ...           ...          ...           ...           ...   \n",
       "2622240   1.510623e+12  9.981745e+11  8202.350428   2465.130011  1.810617e+12   \n",
       "2623680   1.511332e+12  9.983875e+11  8200.890721   2464.165604  1.811326e+12   \n",
       "2625120   1.512040e+12  9.986004e+11  8199.432042   2463.202122  1.812034e+12   \n",
       "2626560   1.512749e+12  9.988131e+11  8197.974390   2462.239564  1.812743e+12   \n",
       "2628000   1.513457e+12  9.990258e+11  8196.517764   2461.277929  1.813451e+12   \n",
       "\n",
       "                ax        ay  \n",
       "time (s)                      \n",
       "0         0.005903 -0.000000  \n",
       "1440      0.005901 -0.000101  \n",
       "2880      0.005896 -0.000202  \n",
       "4320      0.005887 -0.000303  \n",
       "5760      0.005875 -0.000403  \n",
       "...            ...       ...  \n",
       "2622240  -0.000034 -0.000022  \n",
       "2623680  -0.000034 -0.000022  \n",
       "2625120  -0.000034 -0.000022  \n",
       "2626560  -0.000034 -0.000022  \n",
       "2628000  -0.000034 -0.000022  \n",
       "\n",
       "[1826 rows x 7 columns]"
      ]
     },
     "execution_count": 4,
     "metadata": {},
     "output_type": "execute_result"
    }
   ],
   "source": [
    "G = 6.6743e-11  # Nm/kg^2\n",
    "m_sun = 1.99e30  # kg\n",
    "delta_t = 60  # seconds\n",
    "\n",
    "\n",
    "def step(x, y, vx, vy, r, ax, ay):\n",
    "    vx += ax * delta_t / 2\n",
    "    vy += ay * delta_t / 2\n",
    "    x += vx * delta_t\n",
    "    y += vy * delta_t\n",
    "    r = (x**2 + y**2) ** 0.5\n",
    "    ax, ay = -G * m_sun * x / r**3, -G * m_sun * y / r**3\n",
    "    return x, y, vx, vy, r, ax, ay\n",
    "\n",
    "\n",
    "# pick some initial conditions\n",
    "x0, y0 = -1.5e11, 0\n",
    "r0 = (x0**2 + y0**2) ** 0.5\n",
    "vx0, vy0 = 0, (G * m_sun / r0) ** 0.5\n",
    "\n",
    "ax0, ay0 = -G * m_sun * x0 / r0**3, -G * m_sun * y0 / r0**3\n",
    "\n",
    "# simulate one year\n",
    "trajectory = [(x0, y0, vx0, vy0, r0, ax0, ay0)]\n",
    "n_steps = 365 * 24 * 60 * 5\n",
    "\n",
    "for _ in range(n_steps):\n",
    "    trajectory.append(step(*trajectory[-1]))\n",
    "trajectory = pd.DataFrame(trajectory, columns=[\"x\", \"y\", \"vx\", \"vy\", \"r\", \"ax\", \"ay\"])\n",
    "trajectory.index.name = \"time (s)\"\n",
    "trajectory = trajectory[trajectory.index % (24 * 60) == 0]  # where the planet is daily\n",
    "trajectory"
   ]
  },
  {
   "cell_type": "code",
   "execution_count": 6,
   "metadata": {},
   "outputs": [
    {
     "data": {
      "text/plain": [
       "<matplotlib.collections.PathCollection at 0x7fce5b50a850>"
      ]
     },
     "execution_count": 6,
     "metadata": {},
     "output_type": "execute_result"
    },
    {
     "data": {
      "image/png": "[encoded data removed]",
      "text/plain": [
       "<Figure size 640x480 with 1 Axes>"
      ]
     },
     "metadata": {},
     "output_type": "display_data"
    }
   ],
   "source": [
    "frame = 1826\n",
    "plt.scatter(x=[0], y=[0], c=\"red\", label=\"Sun\")\n",
    "plt.scatter(x=trajectory.x.values[:frame], y=trajectory.y.values[:frame], s=1)"
   ]
  },
  {
   "cell_type": "code",
   "execution_count": null,
   "metadata": {},
   "outputs": [
    {
     "data": {
      "text/plain": [
       "<matplotlib.collections.PathCollection at 0x7f214b16d110>"
      ]
     },
     "execution_count": 39,
     "metadata": {},
     "output_type": "execute_result"
    },
    {
     "data": {
      "image/png": "[encoded data removed]",
      "text/plain": [
       "<Figure size 640x480 with 1 Axes>"
      ]
     },
     "metadata": {},
     "output_type": "display_data"
    }
   ],
   "source": [
    "frame = 365 * 10\n",
    "plt.scatter(x=[0], y=[0], c=\"red\", label=\"Sun\")\n",
    "plt.scatter(x=trajectory.x.values[:frame], y=trajectory.y.values[:frame], s=1)"
   ]
  },
  {
   "cell_type": "code",
   "execution_count": 26,
   "metadata": {},
   "outputs": [
    {
     "data": {
      "text/plain": [
       "time (s)\n",
       "0         1.000000e+00\n",
       "86400    -5.737762e+24\n",
       "172800   -1.147552e+25\n",
       "259200   -1.721329e+25\n",
       "Name: x, dtype: float64"
      ]
     },
     "execution_count": 26,
     "metadata": {},
     "output_type": "execute_result"
    }
   ],
   "source": [
    "trajectory[\"x\"].iloc[:4]"
   ]
  },
  {
   "cell_type": "code",
   "execution_count": 16,
   "metadata": {},
   "outputs": [],
   "source": [
    "import matplotlib.pyplot as plt\n",
    "from IPython.display import display\n",
    "import ipywidgets as widgets\n",
    "from matplotlib.animation import FuncAnimation"
   ]
  },
  {
   "cell_type": "code",
   "execution_count": 25,
   "metadata": {},
   "outputs": [
    {
     "data": {
      "application/vnd.jupyter.widget-view+json": {
       "model_id": "36a17ccd178442019e37f1028b932ffc",
       "version_major": 2,
       "version_minor": 0
      },
      "text/plain": [
       "HBox(children=(IntSlider(value=0, max=366), Label(value='Adjust frame:')))"
      ]
     },
     "metadata": {},
     "output_type": "display_data"
    },
    {
     "data": {
      "text/plain": [
       "<Figure size 640x480 with 0 Axes>"
      ]
     },
     "metadata": {},
     "output_type": "display_data"
    },
    {
     "data": {
      "image/png": "[encoded data removed]",
      "text/plain": [
       "<Figure size 640x480 with 1 Axes>"
      ]
     },
     "metadata": {},
     "output_type": "display_data"
    }
   ],
   "source": [
    "def update(frame):\n",
    "    plt.clf()\n",
    "    plt.plot(trajectory[\"x\"].iloc[:frame], trajectory[\"y\"].iloc[:frame], marker=\"o\")\n",
    "    plt.xlim(min(trajectory.x), max(trajectory.x))\n",
    "    plt.ylim(min(trajectory.y), max(trajectory.y))\n",
    "    plt.xlabel(\"x\")\n",
    "    plt.ylabel(\"y\")\n",
    "\n",
    "\n",
    "frame_slider = widgets.IntSlider(min=0, max=len(trajectory), step=1)\n",
    "ani = FuncAnimation(plt.gcf(), update, frames=len(trajectory), interval=1, repeat=False)\n",
    "display(widgets.HBox([frame_slider, widgets.Label(value=\"Adjust frame:\")]))\n",
    "display(plt.gcf())"
   ]
  },
  {
   "cell_type": "markdown",
   "metadata": {},
   "source": []
  }
 ],
 "metadata": {
  "kernelspec": {
   "display_name": "Python 3.10.6 ('fourier')",
   "language": "python",
   "name": "python3"
  },
  "language_info": {
   "codemirror_mode": {
    "name": "ipython",
    "version": 3
   },
   "file_extension": ".py",
   "mimetype": "text/x-python",
   "name": "python",
   "nbconvert_exporter": "python",
   "pygments_lexer": "ipython3",
   "version": "3.11.5"
  },
  "orig_nbformat": 4,
  "vscode": {
   "interpreter": {
    "hash": "fbec77c773adc59266ccea190cddc510c3b9228527ecf2b2058b7ad4c5be46f0"
   }
  }
 },
 "nbformat": 4,
 "nbformat_minor": 2
}
