{
 "cells": [
  {
   "cell_type": "code",
   "execution_count": 1,
   "metadata": {},
   "outputs": [],
   "source": [
    "import numpy as np\n",
    "import matplotlib.pyplot as plt\n",
    "from collections import deque, defaultdict"
   ]
  },
  {
   "attachments": {},
   "cell_type": "markdown",
   "metadata": {},
   "source": [
    "Playing around with the economics/probability problem described here https://www.jasoncollins.blog/posts/ergodicity-economics-a-primer"
   ]
  },
  {
   "cell_type": "code",
   "execution_count": 2,
   "metadata": {},
   "outputs": [
    {
     "data": {
      "text/plain": [
       "1024"
      ]
     },
     "execution_count": 2,
     "metadata": {},
     "output_type": "execute_result"
    }
   ],
   "source": [
    "class Node:\n",
    "    def __init__(self, v, left=None, right=None):\n",
    "        self.v = v\n",
    "        self.left = left\n",
    "        self.right = right\n",
    "\n",
    "heads_gain = 1.8\n",
    "tails_loss = 0.5\n",
    "\n",
    "class BinaryTree:\n",
    "    def __init__(self, n_flips=0, heads_gain=1.8, tails_loss=0.5):\n",
    "        self.head = Node(1)  # start with $1\n",
    "        self.n_flips = n_flips\n",
    "        self.heads_gain = heads_gain\n",
    "        self.tails_loss = tails_loss\n",
    "        \n",
    "        self.dist = defaultdict(list)  # outcomes by number of flips\n",
    "        \n",
    "        q = deque([self.head])\n",
    "        for nth in range(n_flips + 1):\n",
    "            \n",
    "            size = len(q)\n",
    "            for _ in range(size):\n",
    "                node = q.popleft()\n",
    "                self.dist[nth].append(node.v)\n",
    "\n",
    "                # left branch is tails\n",
    "                node.left = Node(node.v * self.tails_loss)\n",
    "                q.append(node.left)\n",
    "\n",
    "                # right branch is heads\n",
    "                node.right = Node(node.v * self.heads_gain)\n",
    "                q.append(node.right)\n",
    "\n",
    "tree = BinaryTree(n_flips=10)\n",
    "len(tree.dist[10])\n",
    "    "
   ]
  },
  {
   "cell_type": "code",
   "execution_count": 3,
   "metadata": {},
   "outputs": [
    {
     "data": {
      "image/png": "[encoded data removed]",
      "text/plain": [
       "<Figure size 640x480 with 1 Axes>"
      ]
     },
     "metadata": {},
     "output_type": "display_data"
    }
   ],
   "source": [
    "plt.hist(tree.dist[10], bins=100)\n",
    "plt.show()"
   ]
  },
  {
   "cell_type": "code",
   "execution_count": 4,
   "metadata": {},
   "outputs": [
    {
     "data": {
      "text/plain": [
       "array([1.26562500e-02, 4.55625000e-02, 4.55625000e-02, 1.64025000e-01,\n",
       "       1.64025000e-01, 1.64025000e-01, 1.64025000e-01, 5.90490000e-01,\n",
       "       5.90490000e-01, 5.90490000e-01, 5.90490000e-01, 5.90490000e-01,\n",
       "       2.12576400e+00, 2.12576400e+00, 2.12576400e+00, 2.12576400e+00,\n",
       "       7.65275040e+00, 7.65275040e+00, 2.75499014e+01])"
      ]
     },
     "execution_count": 4,
     "metadata": {},
     "output_type": "execute_result"
    }
   ],
   "source": [
    "percentiles = np.percentile(tree.dist[10], [i for i in range(5, 100, 5)])\n",
    "percentiles"
   ]
  },
  {
   "cell_type": "code",
   "execution_count": 5,
   "metadata": {},
   "outputs": [
    {
     "data": {
      "text/plain": [
       "array([ True,  True,  True,  True,  True,  True,  True,  True,  True,\n",
       "        True,  True,  True, False, False, False, False, False, False,\n",
       "       False])"
      ]
     },
     "execution_count": 5,
     "metadata": {},
     "output_type": "execute_result"
    }
   ],
   "source": [
    "percentiles < 1"
   ]
  },
  {
   "cell_type": "code",
   "execution_count": 6,
   "metadata": {},
   "outputs": [
    {
     "data": {
      "text/plain": [
       "0.5904900000000002"
      ]
     },
     "execution_count": 6,
     "metadata": {},
     "output_type": "execute_result"
    }
   ],
   "source": [
    "np.percentile(tree.dist[10], 50)"
   ]
  },
  {
   "cell_type": "code",
   "execution_count": 7,
   "metadata": {},
   "outputs": [
    {
     "data": {
      "text/plain": [
       "(0.5904900000000002, 2.1257640000000007)"
      ]
     },
     "execution_count": 7,
     "metadata": {},
     "output_type": "execute_result"
    }
   ],
   "source": [
    "np.percentile(tree.dist[10], 60), np.percentile(tree.dist[10], 65)"
   ]
  },
  {
   "cell_type": "code",
   "execution_count": null,
   "metadata": {},
   "outputs": [],
   "source": [
    "# for 10 flips, the median is $0.59, less than what you started."
   ]
  },
  {
   "cell_type": "code",
   "execution_count": 8,
   "metadata": {},
   "outputs": [
    {
     "name": "stdout",
     "output_type": "stream",
     "text": [
      "After 0, the min, mean, median, max dollar amount is (1, 1.0, 1.0, 1).\n",
      "After 1, the min, mean, median, max dollar amount is (0.5, 1.15, 1.15, 1.8).\n",
      "After 2, the min, mean, median, max dollar amount is (0.25, 1.3225, 0.9, 3.24).\n",
      "After 3, the min, mean, median, max dollar amount is (0.125, 1.5208750000000002, 1.0350000000000001, 5.832000000000001).\n",
      "After 4, the min, mean, median, max dollar amount is (0.0625, 1.7490062500000003, 0.81, 10.497600000000002).\n",
      "After 5, the min, mean, median, max dollar amount is (0.03125, 2.0113571875000007, 0.9315000000000001, 18.895680000000006).\n",
      "After 6, the min, mean, median, max dollar amount is (0.015625, 2.313060765625001, 0.7290000000000001, 34.01222400000001).\n",
      "After 7, the min, mean, median, max dollar amount is (0.0078125, 2.6600198804687505, 0.8383500000000002, 61.22200320000002).\n",
      "After 8, the min, mean, median, max dollar amount is (0.00390625, 3.0590228625390634, 0.6561000000000001, 110.19960576000004).\n",
      "After 9, the min, mean, median, max dollar amount is (0.001953125, 3.517876291919923, 0.7545150000000003, 198.35929036800007).\n",
      "After 10, the min, mean, median, max dollar amount is (0.0009765625, 4.045557735707912, 0.5904900000000002, 357.04672266240016).\n"
     ]
    }
   ],
   "source": [
    "for n_flips in tree.dist:\n",
    "    dist = tree.dist[n_flips]\n",
    "    print(f'After {n_flips}, the min, mean, median, max dollar amount is {np.min(dist), np.mean(dist), np.median(dist), np.max(dist)}.')"
   ]
  },
  {
   "cell_type": "code",
   "execution_count": null,
   "metadata": {},
   "outputs": [],
   "source": []
  }
 ],
 "metadata": {
  "kernelspec": {
   "display_name": "Python 3 (ipykernel)",
   "language": "python",
   "name": "python3"
  },
  "language_info": {
   "codemirror_mode": {
    "name": "ipython",
    "version": 3
   },
   "file_extension": ".py",
   "mimetype": "text/x-python",
   "name": "python",
   "nbconvert_exporter": "python",
   "pygments_lexer": "ipython3",
   "version": "3.10.6"
  },
  "vscode": {
   "interpreter": {
    "hash": "fbec77c773adc59266ccea190cddc510c3b9228527ecf2b2058b7ad4c5be46f0"
   }
  }
 },
 "nbformat": 4,
 "nbformat_minor": 4
}
